{
 "cells": [
  {
   "cell_type": "code",
   "execution_count": 11,
   "metadata": {},
   "outputs": [],
   "source": [
    "# import modules\n",
    "import os\n",
    "import geopandas as gpd\n",
    "import rasterio\n",
    "from rasterio.mask import mask\n",
    "from rasterio.enums import Resampling\n"
   ]
  },
  {
   "cell_type": "code",
   "execution_count": 12,
   "metadata": {},
   "outputs": [],
   "source": [
    "# generated with chatGPT 3.5\n",
    "# Function to clip raster by geometry\n",
    "def clip_raster(raster_path, output_path, geometry):\n",
    "    with rasterio.open(raster_path) as src:\n",
    "        out_image, out_transform = mask(src, geometry, crop=True)\n",
    "        out_meta = src.meta.copy()\n",
    "\n",
    "        # Update metadata with new dimensions and transform\n",
    "        out_meta.update({\"driver\": \"GTiff\",\n",
    "                         \"height\": out_image.shape[1],\n",
    "                         \"width\": out_image.shape[2],\n",
    "                         \"transform\": out_transform})\n",
    "\n",
    "        # Write the clipped raster to disk\n",
    "        with rasterio.open(output_path, \"w\", **out_meta) as dest:\n",
    "            dest.write(out_image)"
   ]
  },
  {
   "cell_type": "code",
   "execution_count": 13,
   "metadata": {},
   "outputs": [
    {
     "name": "stdout",
     "output_type": "stream",
     "text": [
      "Project CRS: EPSG:4326\n"
     ]
    }
   ],
   "source": [
    "# import geopackage with aoi\n",
    "\n",
    "# read polygon from file\n",
    "gpkg = '../../area_mask/area_of_interest.gpkg'\n",
    "polygon = gpd.read_file(gpkg, layer='aoi_extracted')\n",
    "\n",
    "# check CRS\n",
    "print('Project CRS: {}'.format(polygon.crs))"
   ]
  },
  {
   "cell_type": "code",
   "execution_count": 14,
   "metadata": {},
   "outputs": [],
   "source": [
    "# Path to the folder containing GeoTIFF layers\n",
    "folder_path = \"../../data_env/chelsa/bio\""
   ]
  },
  {
   "cell_type": "code",
   "execution_count": 15,
   "metadata": {},
   "outputs": [
    {
     "name": "stdout",
     "output_type": "stream",
     "text": [
      "Clipped CHELSA_bio18_1981-2010_V.2.1.tif\n",
      "Clipped CHELSA_bio14_1981-2010_V.2.1.tif\n",
      "Clipped CHELSA_bio13_1981-2010_V.2.1.tif\n",
      "Clipped CHELSA_bio15_1981-2010_V.2.1.tif\n",
      "Clipped CHELSA_bio16_1981-2010_V.2.1.tif\n",
      "Clipped CHELSA_bio8_1981-2010_V.2.1.tif\n",
      "Clipped CHELSA_bio19_1981-2010_V.2.1.tif\n",
      "Clipped CHELSA_bio10_1981-2010_V.2.1.tif\n",
      "Clipped CHELSA_bio12_1981-2010_V.2.1.tif\n",
      "Clipped CHELSA_bio9_1981-2010_V.2.1.tif\n",
      "Clipped CHELSA_bio17_1981-2010_V.2.1.tif\n",
      "Clipped CHELSA_bio2_1981-2010_V.2.1.tif\n",
      "Clipped CHELSA_bio7_1981-2010_V.2.1.tif\n",
      "Clipped CHELSA_bio11_1981-2010_V.2.1.tif\n",
      "Clipped CHELSA_bio3_1981-2010_V.2.1.tif\n",
      "Clipped CHELSA_bio4_1981-2010_V.2.1.tif\n",
      "Clipped CHELSA_bio5_1981-2010_V.2.1.tif\n",
      "Clipped CHELSA_bio6_1981-2010_V.2.1.tif\n",
      "Clipped CHELSA_bio1_1981-2010_V.2.1.tif\n",
      "Clipping complete.\n",
      "CPU times: user 53.8 s, sys: 2.8 s, total: 56.6 s\n",
      "Wall time: 56.7 s\n"
     ]
    }
   ],
   "source": [
    "%%time\n",
    "# Iterate over GeoTIFF files in the folder\n",
    "for file_name in os.listdir(folder_path):\n",
    "    if file_name.endswith(\".tif\") or file_name.endswith(\".tiff\"):\n",
    "        raster_path = os.path.join(folder_path, file_name)\n",
    "        output_path = os.path.join(folder_path+\"_clipped\", \"clipped_\" + file_name)\n",
    "\n",
    "        # Clip the raster by the polygon\n",
    "        clip_raster(raster_path, output_path, polygon.geometry)\n",
    "\n",
    "        print(\"Clipped\", file_name)\n",
    "\n",
    "print(\"Clipping complete.\")"
   ]
  }
 ],
 "metadata": {
  "kernelspec": {
   "display_name": "usr",
   "language": "python",
   "name": "python3"
  },
  "language_info": {
   "codemirror_mode": {
    "name": "ipython",
    "version": 3
   },
   "file_extension": ".py",
   "mimetype": "text/x-python",
   "name": "python",
   "nbconvert_exporter": "python",
   "pygments_lexer": "ipython3",
   "version": "3.12.2"
  }
 },
 "nbformat": 4,
 "nbformat_minor": 2
}
